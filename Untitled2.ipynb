{
 "cells": [
  {
   "cell_type": "code",
   "execution_count": 2,
   "metadata": {},
   "outputs": [
    {
     "name": "stdout",
     "output_type": "stream",
     "text": [
      "Kuartil awal =  tinggi badan    150.75\n",
      "Name: 0.25, dtype: float64\n",
      " \n",
      "Kuartil tengah =  tinggi badan    169.0\n",
      "Name: 0.5, dtype: float64\n",
      " \n",
      "Kuartil tengah =  tinggi badan    185.25\n",
      "Name: 0.75, dtype: float64\n",
      " \n",
      "Kuartil awal =  berat badan    56.0\n",
      "Name: 0.25, dtype: float64\n",
      " \n",
      "Kuartil tengah =  berat badan    62.0\n",
      "Name: 0.5, dtype: float64\n",
      " \n",
      "Kuartil tengah =  berat badan    72.0\n",
      "Name: 0.75, dtype: float64\n",
      " \n",
      "Kuartil awal =  umur    23.0\n",
      "Name: 0.25, dtype: float64\n",
      " \n",
      "Kuartil tengah =  umur    25.0\n",
      "Name: 0.5, dtype: float64\n",
      " \n",
      "Kuartil tengah =  umur    28.0\n",
      "Name: 0.75, dtype: float64\n",
      " \n",
      "Kuartil awal =  semester    2.0\n",
      "Name: 0.25, dtype: float64\n",
      " \n",
      "Kuartil tengah =  semester    4.0\n",
      "Name: 0.5, dtype: float64\n",
      " \n",
      "Kuartil tengah =  semester    6.0\n",
      "Name: 0.75, dtype: float64\n",
      " \n"
     ]
    },
    {
     "data": {
      "image/png": "[encoded data removed]",
      "text/plain": [
       "<Figure size 432x288 with 1 Axes>"
      ]
     },
     "metadata": {
      "needs_background": "light"
     },
     "output_type": "display_data"
    }
   ],
   "source": [
    "import numpy as ip\n",
    "import seaborn as sea\n",
    "import matplotlib.pyplot as mat\n",
    "from scipy import stats\n",
    "import pandas as data\n",
    "\n",
    "for i in range(4):\n",
    "    cek1=data.read_csv(\"tugas.csv\",usecols=[i])\n",
    "    Q1= cek1.quantile(0.25)\n",
    "    print(\"Kuartil awal = \",Q1)\n",
    "    print(\" \")\n",
    "    Q2= cek1.quantile(0.50)\n",
    "    print(\"Kuartil tengah = \",Q2)\n",
    "    print(\" \")\n",
    "    Q3= cek1.quantile(0.75)\n",
    "    print(\"Kuartil tengah = \",Q3)\n",
    "    print(\" \")\n",
    "    sea.distplot(cek1);"
   ]
  },
  {
   "cell_type": "code",
   "execution_count": null,
   "metadata": {},
   "outputs": [],
   "source": []
  }
 ],
 "metadata": {
  "kernelspec": {
   "display_name": "Python 3",
   "language": "python",
   "name": "python3"
  },
  "language_info": {
   "codemirror_mode": {
    "name": "ipython",
    "version": 3
   },
   "file_extension": ".py",
   "mimetype": "text/x-python",
   "name": "python",
   "nbconvert_exporter": "python",
   "pygments_lexer": "ipython3",
   "version": "3.7.2"
  }
 },
 "nbformat": 4,
 "nbformat_minor": 2
}
